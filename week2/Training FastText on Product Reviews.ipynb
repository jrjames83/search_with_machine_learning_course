{
 "cells": [
  {
   "cell_type": "code",
   "execution_count": 23,
   "id": "8516f154",
   "metadata": {},
   "outputs": [],
   "source": [
    "import fasttext\n",
    "import pandas as pd \n",
    "from sklearn.metrics import classification_report, confusion_matrix, plot_confusion_matrix\n",
    "import numpy as np"
   ]
  },
  {
   "cell_type": "code",
   "execution_count": 50,
   "id": "4ad9b1cc",
   "metadata": {},
   "outputs": [
    {
     "name": "stdout",
     "output_type": "stream",
     "text": [
      "__label__20 not that impressive i thought this film might be interesting instead it was more of a mess the film is full of contradictions that when all is said and done just dont make any sense i think the production crew themselves might have been confused as to how they wanted to present this picture anamorphic widescreen with several bonus features but id recommended skipping it\r\n",
      "__label__40 worth the buy while i only really enjoyed the first film you cant go wrong with this twodisc set for only 999 eddie murphy gives some memorable performances here\r\n",
      "__label__10 incredibly disappointing based off the roald dahl childrens book this twisted and bizarre tim burton remake of the 1971 classic film is extremely poor a relatively good cast and production team goes to waste here stick with the infinitely better 1971 version starring gene wilder and titled willy wonka the chocolate factory\r\n"
     ]
    }
   ],
   "source": [
    "!head -3 /workspace/datasets/reviews/output.fasttext"
   ]
  },
  {
   "cell_type": "code",
   "execution_count": 2,
   "id": "a2775b18",
   "metadata": {},
   "outputs": [],
   "source": [
    "!shuf /workspace/datasets/reviews/output.fasttext > /workspace/datasets/reviews/shuffled_output.fasttext"
   ]
  },
  {
   "cell_type": "code",
   "execution_count": 51,
   "id": "22fdb534",
   "metadata": {},
   "outputs": [
    {
     "name": "stdout",
     "output_type": "stream",
     "text": [
      "__label__50 time capsule is excellent i replaced my linksys router with the time capsule so easy to set up amazing i really like having the router and back up hard drive all in 1 to de clutter my work station very fast router i use the capsule with my imac iphone and ipad2 excellent product i highly recommend\r\n",
      "__label__50 everything you think it is and more fun to use and with the availability of 1000s of apps it is constantly delivering entertainment\r\n",
      "__label__50 non blizzard wow this game feels like wow with its structure by that i mean talent trees professions mounts quests raids whats not to love for me they took all the goods from other similiar mmos and incorporated it into this game i would recommand this to someone looking for a break from wow i must warn you tho once you get into this one you will be saying wow what\r\n"
     ]
    }
   ],
   "source": [
    "!head -3 /workspace/datasets/reviews/shuffled_output.fasttext"
   ]
  },
  {
   "cell_type": "code",
   "execution_count": 3,
   "id": "385e89d3",
   "metadata": {},
   "outputs": [
    {
     "name": "stdout",
     "output_type": "stream",
     "text": [
      "221771 /workspace/datasets/reviews/shuffled_output.fasttext\r\n"
     ]
    }
   ],
   "source": [
    "!wc -l /workspace/datasets/reviews/shuffled_output.fasttext # 221,771"
   ]
  },
  {
   "cell_type": "code",
   "execution_count": 4,
   "id": "7fb5b122",
   "metadata": {},
   "outputs": [],
   "source": [
    "!head -150000 /workspace/datasets/reviews/shuffled_output.fasttext > /workspace/datasets/reviews/shuffled_output.train"
   ]
  },
  {
   "cell_type": "code",
   "execution_count": 5,
   "id": "6ed86971",
   "metadata": {},
   "outputs": [],
   "source": [
    "!tail -20000 /workspace/datasets/reviews/shuffled_output.fasttext > /workspace/datasets/reviews/shuffled_output.test"
   ]
  },
  {
   "cell_type": "code",
   "execution_count": 6,
   "id": "5322db5a",
   "metadata": {},
   "outputs": [
    {
     "name": "stdout",
     "output_type": "stream",
     "text": [
      "label distribution\n",
      "__label__50    0.607954\n",
      "__label__40    0.199256\n",
      "__label__10    0.088443\n",
      "__label__30    0.059494\n",
      "__label__20    0.044848\n",
      "__label__00    0.000005\n",
      "Name: review, dtype: float64\n",
      "label counts\n",
      "__label__50    134826\n",
      "__label__40     44189\n",
      "__label__10     19614\n",
      "__label__30     13194\n",
      "__label__20      9946\n",
      "__label__00         1\n",
      "Name: review, dtype: int64\n"
     ]
    }
   ],
   "source": [
    "df = pd.read_csv('/workspace/datasets/reviews/shuffled_output.fasttext')\n",
    "df.columns = ['blob']\n",
    "df['review'] = df['blob'].map(lambda x: x.split(' ', 1)[0])\n",
    "df['comment'] = df['blob'].map(lambda x: x.split(' ', 1)[1])\n",
    "print('label distribution')\n",
    "print(df['review'].value_counts(normalize=True))\n",
    "print('label counts')\n",
    "print(df['review'].value_counts(normalize=False))"
   ]
  },
  {
   "cell_type": "code",
   "execution_count": 27,
   "id": "affa2094",
   "metadata": {},
   "outputs": [
    {
     "name": "stderr",
     "output_type": "stream",
     "text": [
      "Read 12M words\n",
      "Number of words:  129949\n",
      "Number of labels: 6\n",
      "Progress: 100.0% words/sec/thread:  619929 lr:  0.000000 avg.loss:  0.240394 ETA:   0h 0m 0s 85.7% words/sec/thread:  621280 lr:  0.143110 avg.loss:  0.270789 ETA:   0h 0m 4s\n"
     ]
    },
    {
     "name": "stdout",
     "output_type": "stream",
     "text": [
      "(20000, 0.6888, 0.6888)\n"
     ]
    }
   ],
   "source": [
    "model = fasttext.train_supervised(input=\"/workspace/datasets/reviews/shuffled_output.train\", \n",
    "                            lr=1.0, \n",
    "                            epoch=25, \n",
    "                            wordNgrams=2, \n",
    "#                             bucket=200000, \n",
    "#                             dim=50, \n",
    "#                             loss='hs'\n",
    "                            )\n",
    "test_result = model.test(\"/workspace/datasets/reviews/shuffled_output.test\")                            \n",
    "print(test_result)"
   ]
  },
  {
   "cell_type": "code",
   "execution_count": 28,
   "id": "4d9c4ec3",
   "metadata": {},
   "outputs": [
    {
     "name": "stdout",
     "output_type": "stream",
     "text": [
      "label distribution\n",
      "__label__50    0.605530\n",
      "__label__40    0.201260\n",
      "__label__10    0.088354\n",
      "__label__30    0.058053\n",
      "__label__20    0.046802\n",
      "Name: review, dtype: float64\n",
      "label counts\n",
      "__label__50    12110\n",
      "__label__40     4025\n",
      "__label__10     1767\n",
      "__label__30     1161\n",
      "__label__20      936\n",
      "Name: review, dtype: int64\n"
     ]
    },
    {
     "data": {
      "text/html": [
       "<div>\n",
       "<style scoped>\n",
       "    .dataframe tbody tr th:only-of-type {\n",
       "        vertical-align: middle;\n",
       "    }\n",
       "\n",
       "    .dataframe tbody tr th {\n",
       "        vertical-align: top;\n",
       "    }\n",
       "\n",
       "    .dataframe thead th {\n",
       "        text-align: right;\n",
       "    }\n",
       "</style>\n",
       "<table border=\"1\" class=\"dataframe\">\n",
       "  <thead>\n",
       "    <tr style=\"text-align: right;\">\n",
       "      <th></th>\n",
       "      <th>blob</th>\n",
       "      <th>review</th>\n",
       "      <th>comment</th>\n",
       "    </tr>\n",
       "  </thead>\n",
       "  <tbody>\n",
       "    <tr>\n",
       "      <th>0</th>\n",
       "      <td>__label__40 awesome for high drain devices wit...</td>\n",
       "      <td>__label__40</td>\n",
       "      <td>everything you think it is and more fun to use...</td>\n",
       "    </tr>\n",
       "    <tr>\n",
       "      <th>1</th>\n",
       "      <td>__label__50 so many things to take pictures of...</td>\n",
       "      <td>__label__50</td>\n",
       "      <td>non blizzard wow this game feels like wow with...</td>\n",
       "    </tr>\n",
       "    <tr>\n",
       "      <th>2</th>\n",
       "      <td>__label__50 great controller i got this produc...</td>\n",
       "      <td>__label__50</td>\n",
       "      <td>ample space for two cameras memory cards etc i...</td>\n",
       "    </tr>\n",
       "    <tr>\n",
       "      <th>3</th>\n",
       "      <td>__label__50 great product well designed this i...</td>\n",
       "      <td>__label__50</td>\n",
       "      <td>good movie annoying preview this movie is unde...</td>\n",
       "    </tr>\n",
       "    <tr>\n",
       "      <th>4</th>\n",
       "      <td>__label__50 loved it it does just what i wante...</td>\n",
       "      <td>__label__50</td>\n",
       "      <td>classic thps gameplay plays like all the other...</td>\n",
       "    </tr>\n",
       "  </tbody>\n",
       "</table>\n",
       "</div>"
      ],
      "text/plain": [
       "                                                blob       review  \\\n",
       "0  __label__40 awesome for high drain devices wit...  __label__40   \n",
       "1  __label__50 so many things to take pictures of...  __label__50   \n",
       "2  __label__50 great controller i got this produc...  __label__50   \n",
       "3  __label__50 great product well designed this i...  __label__50   \n",
       "4  __label__50 loved it it does just what i wante...  __label__50   \n",
       "\n",
       "                                             comment  \n",
       "0  everything you think it is and more fun to use...  \n",
       "1  non blizzard wow this game feels like wow with...  \n",
       "2  ample space for two cameras memory cards etc i...  \n",
       "3  good movie annoying preview this movie is unde...  \n",
       "4  classic thps gameplay plays like all the other...  "
      ]
     },
     "execution_count": 28,
     "metadata": {},
     "output_type": "execute_result"
    }
   ],
   "source": [
    "validation = pd.read_csv('/workspace/datasets/reviews/shuffled_output.test')\n",
    "validation.columns = ['blob']\n",
    "validation['review'] = validation['blob'].map(lambda x: x.split(' ', 1)[0])\n",
    "validation['comment'] = df['blob'].map(lambda x: x.split(' ', 1)[1])\n",
    "print('label distribution')\n",
    "print(validation['review'].value_counts(normalize=True))\n",
    "print('label counts')\n",
    "print(validation['review'].value_counts(normalize=False))\n",
    "validation.head()"
   ]
  },
  {
   "cell_type": "code",
   "execution_count": 29,
   "id": "95d0015d",
   "metadata": {},
   "outputs": [
    {
     "data": {
      "text/html": [
       "<div>\n",
       "<style scoped>\n",
       "    .dataframe tbody tr th:only-of-type {\n",
       "        vertical-align: middle;\n",
       "    }\n",
       "\n",
       "    .dataframe tbody tr th {\n",
       "        vertical-align: top;\n",
       "    }\n",
       "\n",
       "    .dataframe thead th {\n",
       "        text-align: right;\n",
       "    }\n",
       "</style>\n",
       "<table border=\"1\" class=\"dataframe\">\n",
       "  <thead>\n",
       "    <tr style=\"text-align: right;\">\n",
       "      <th></th>\n",
       "      <th>blob</th>\n",
       "      <th>review</th>\n",
       "      <th>comment</th>\n",
       "      <th>predicted</th>\n",
       "    </tr>\n",
       "  </thead>\n",
       "  <tbody>\n",
       "    <tr>\n",
       "      <th>15775</th>\n",
       "      <td>__label__40 look and sound great i have bought...</td>\n",
       "      <td>__label__40</td>\n",
       "      <td>phenomenal this movie is amazingly well done t...</td>\n",
       "      <td>__label__50</td>\n",
       "    </tr>\n",
       "    <tr>\n",
       "      <th>14237</th>\n",
       "      <td>__label__50 the reason to buy a psp i will adm...</td>\n",
       "      <td>__label__50</td>\n",
       "      <td>good not great this phone is definitely better...</td>\n",
       "      <td>__label__40</td>\n",
       "    </tr>\n",
       "    <tr>\n",
       "      <th>16705</th>\n",
       "      <td>__label__50 batteries i was actually sent an e...</td>\n",
       "      <td>__label__50</td>\n",
       "      <td>beautifully sungnaturally its pavarotti it is ...</td>\n",
       "      <td>__label__50</td>\n",
       "    </tr>\n",
       "    <tr>\n",
       "      <th>8505</th>\n",
       "      <td>__label__50 sony cyber shot 162 megapixel thou...</td>\n",
       "      <td>__label__50</td>\n",
       "      <td>good router for the price i had bought this to...</td>\n",
       "      <td>__label__50</td>\n",
       "    </tr>\n",
       "    <tr>\n",
       "      <th>1021</th>\n",
       "      <td>__label__50 great game this is a great game it...</td>\n",
       "      <td>__label__50</td>\n",
       "      <td>jeremys new remote i rated the product as high...</td>\n",
       "      <td>__label__50</td>\n",
       "    </tr>\n",
       "    <tr>\n",
       "      <th>16311</th>\n",
       "      <td>__label__50 great for small carpets and wood f...</td>\n",
       "      <td>__label__50</td>\n",
       "      <td>future cult movie i need to stick up for this ...</td>\n",
       "      <td>__label__50</td>\n",
       "    </tr>\n",
       "    <tr>\n",
       "      <th>8256</th>\n",
       "      <td>__label__50 great first person actionstrategy ...</td>\n",
       "      <td>__label__50</td>\n",
       "      <td>a good cheap hdmi cable this product works wel...</td>\n",
       "      <td>__label__50</td>\n",
       "    </tr>\n",
       "    <tr>\n",
       "      <th>14703</th>\n",
       "      <td>__label__50 good addition to home audio this u...</td>\n",
       "      <td>__label__50</td>\n",
       "      <td>great performance for the price i bought a pai...</td>\n",
       "      <td>__label__40</td>\n",
       "    </tr>\n",
       "    <tr>\n",
       "      <th>8730</th>\n",
       "      <td>__label__50 awesome ive had these headphones f...</td>\n",
       "      <td>__label__50</td>\n",
       "      <td>would be nice if it lasted this stylus is not ...</td>\n",
       "      <td>__label__20</td>\n",
       "    </tr>\n",
       "    <tr>\n",
       "      <th>1979</th>\n",
       "      <td>__label__50 great movie it is one of my all ti...</td>\n",
       "      <td>__label__50</td>\n",
       "      <td>solid decent but one major design flaw i bough...</td>\n",
       "      <td>__label__50</td>\n",
       "    </tr>\n",
       "  </tbody>\n",
       "</table>\n",
       "</div>"
      ],
      "text/plain": [
       "                                                    blob       review  \\\n",
       "15775  __label__40 look and sound great i have bought...  __label__40   \n",
       "14237  __label__50 the reason to buy a psp i will adm...  __label__50   \n",
       "16705  __label__50 batteries i was actually sent an e...  __label__50   \n",
       "8505   __label__50 sony cyber shot 162 megapixel thou...  __label__50   \n",
       "1021   __label__50 great game this is a great game it...  __label__50   \n",
       "16311  __label__50 great for small carpets and wood f...  __label__50   \n",
       "8256   __label__50 great first person actionstrategy ...  __label__50   \n",
       "14703  __label__50 good addition to home audio this u...  __label__50   \n",
       "8730   __label__50 awesome ive had these headphones f...  __label__50   \n",
       "1979   __label__50 great movie it is one of my all ti...  __label__50   \n",
       "\n",
       "                                                 comment    predicted  \n",
       "15775  phenomenal this movie is amazingly well done t...  __label__50  \n",
       "14237  good not great this phone is definitely better...  __label__40  \n",
       "16705  beautifully sungnaturally its pavarotti it is ...  __label__50  \n",
       "8505   good router for the price i had bought this to...  __label__50  \n",
       "1021   jeremys new remote i rated the product as high...  __label__50  \n",
       "16311  future cult movie i need to stick up for this ...  __label__50  \n",
       "8256   a good cheap hdmi cable this product works wel...  __label__50  \n",
       "14703  great performance for the price i bought a pai...  __label__40  \n",
       "8730   would be nice if it lasted this stylus is not ...  __label__20  \n",
       "1979   solid decent but one major design flaw i bough...  __label__50  "
      ]
     },
     "execution_count": 29,
     "metadata": {},
     "output_type": "execute_result"
    }
   ],
   "source": [
    "validation['predicted'] = validation['comment'].map(lambda x: model.predict(x, k=1)[0][0])\n",
    "validation.sample(10)"
   ]
  },
  {
   "cell_type": "code",
   "execution_count": 30,
   "id": "c658cf9d",
   "metadata": {},
   "outputs": [
    {
     "name": "stdout",
     "output_type": "stream",
     "text": [
      "              precision    recall  f1-score   support\n",
      "\n",
      " __label__10       0.08      0.08      0.08      1767\n",
      " __label__20       0.05      0.04      0.05       936\n",
      " __label__30       0.07      0.07      0.07      1161\n",
      " __label__40       0.19      0.20      0.20      4025\n",
      " __label__50       0.60      0.60      0.60     12110\n",
      "\n",
      "    accuracy                           0.42     19999\n",
      "   macro avg       0.20      0.20      0.20     19999\n",
      "weighted avg       0.42      0.42      0.42     19999\n",
      "\n"
     ]
    }
   ],
   "source": [
    "print(classification_report(validation.review, validation.predicted))"
   ]
  },
  {
   "cell_type": "code",
   "execution_count": 44,
   "id": "bc069ef5",
   "metadata": {},
   "outputs": [
    {
     "data": {
      "text/html": [
       "<div>\n",
       "<style scoped>\n",
       "    .dataframe tbody tr th:only-of-type {\n",
       "        vertical-align: middle;\n",
       "    }\n",
       "\n",
       "    .dataframe tbody tr th {\n",
       "        vertical-align: top;\n",
       "    }\n",
       "\n",
       "    .dataframe thead th {\n",
       "        text-align: right;\n",
       "    }\n",
       "</style>\n",
       "<table border=\"1\" class=\"dataframe\">\n",
       "  <thead>\n",
       "    <tr style=\"text-align: right;\">\n",
       "      <th></th>\n",
       "      <th>counts</th>\n",
       "      <th>classifications</th>\n",
       "    </tr>\n",
       "    <tr>\n",
       "      <th>review</th>\n",
       "      <th></th>\n",
       "      <th></th>\n",
       "    </tr>\n",
       "  </thead>\n",
       "  <tbody>\n",
       "    <tr>\n",
       "      <th>__label__10</th>\n",
       "      <td>1767</td>\n",
       "      <td>[(__label__50, 1103), (__label__40, 358), (__label__10, 140)]</td>\n",
       "    </tr>\n",
       "    <tr>\n",
       "      <th>__label__20</th>\n",
       "      <td>936</td>\n",
       "      <td>[(__label__50, 565), (__label__40, 202), (__label__10, 79)]</td>\n",
       "    </tr>\n",
       "    <tr>\n",
       "      <th>__label__30</th>\n",
       "      <td>1161</td>\n",
       "      <td>[(__label__50, 663), (__label__40, 259), (__label__10, 102)]</td>\n",
       "    </tr>\n",
       "    <tr>\n",
       "      <th>__label__40</th>\n",
       "      <td>4025</td>\n",
       "      <td>[(__label__50, 2461), (__label__40, 794), (__label__10, 334)]</td>\n",
       "    </tr>\n",
       "    <tr>\n",
       "      <th>__label__50</th>\n",
       "      <td>12110</td>\n",
       "      <td>[(__label__50, 7290), (__label__40, 2484), (__label__10, 1119)]</td>\n",
       "    </tr>\n",
       "  </tbody>\n",
       "</table>\n",
       "</div>"
      ],
      "text/plain": [
       "             counts  \\\n",
       "review                \n",
       "__label__10    1767   \n",
       "__label__20     936   \n",
       "__label__30    1161   \n",
       "__label__40    4025   \n",
       "__label__50   12110   \n",
       "\n",
       "                                                             classifications  \n",
       "review                                                                        \n",
       "__label__10    [(__label__50, 1103), (__label__40, 358), (__label__10, 140)]  \n",
       "__label__20      [(__label__50, 565), (__label__40, 202), (__label__10, 79)]  \n",
       "__label__30     [(__label__50, 663), (__label__40, 259), (__label__10, 102)]  \n",
       "__label__40    [(__label__50, 2461), (__label__40, 794), (__label__10, 334)]  \n",
       "__label__50  [(__label__50, 7290), (__label__40, 2484), (__label__10, 1119)]  "
      ]
     },
     "execution_count": 44,
     "metadata": {},
     "output_type": "execute_result"
    }
   ],
   "source": [
    "from collections import Counter\n",
    "\n",
    "pd.set_option('display.max_colwidth', None)\n",
    "\n",
    "# Lots of predictions for 5.0 when the actual label is 1.0?\n",
    "\n",
    "validation.groupby('review').agg(\n",
    "    counts = ('review', 'count'), \n",
    "    classifications = ('predicted', lambda x: Counter(x).most_common(3))\n",
    ")"
   ]
  },
  {
   "cell_type": "code",
   "execution_count": 46,
   "id": "853536d9",
   "metadata": {},
   "outputs": [
    {
     "data": {
      "text/html": [
       "<div>\n",
       "<style scoped>\n",
       "    .dataframe tbody tr th:only-of-type {\n",
       "        vertical-align: middle;\n",
       "    }\n",
       "\n",
       "    .dataframe tbody tr th {\n",
       "        vertical-align: top;\n",
       "    }\n",
       "\n",
       "    .dataframe thead th {\n",
       "        text-align: right;\n",
       "    }\n",
       "</style>\n",
       "<table border=\"1\" class=\"dataframe\">\n",
       "  <thead>\n",
       "    <tr style=\"text-align: right;\">\n",
       "      <th></th>\n",
       "      <th>review</th>\n",
       "      <th>comment</th>\n",
       "      <th>predicted</th>\n",
       "    </tr>\n",
       "  </thead>\n",
       "  <tbody>\n",
       "    <tr>\n",
       "      <th>6584</th>\n",
       "      <td>__label__10</td>\n",
       "      <td>maximum signal everywhere in a 2 floor home installed by geek squad for free with special promotion great signal everywhere and newer computers run at n speed while older one runs at g with no signal drop</td>\n",
       "      <td>__label__50</td>\n",
       "    </tr>\n",
       "    <tr>\n",
       "      <th>17980</th>\n",
       "      <td>__label__10</td>\n",
       "      <td>does the job a colleague recommended something like this when my maxtor external hard drive died this is the size of a smart phone has plenty of memory was easy to install and seems to be backing everything up</td>\n",
       "      <td>__label__50</td>\n",
       "    </tr>\n",
       "    <tr>\n",
       "      <th>7038</th>\n",
       "      <td>__label__10</td>\n",
       "      <td>great filter took me awhile to figure that it was circular and was pleasantly surprised what it really did</td>\n",
       "      <td>__label__50</td>\n",
       "    </tr>\n",
       "    <tr>\n",
       "      <th>18886</th>\n",
       "      <td>__label__10</td>\n",
       "      <td>love the apps and ease of use all my family has one once we got the first one it was hard to share with everyone because of the alldifferent directions are family goes in</td>\n",
       "      <td>__label__50</td>\n",
       "    </tr>\n",
       "    <tr>\n",
       "      <th>12278</th>\n",
       "      <td>__label__10</td>\n",
       "      <td>32gb for 2100 i have an lg rumor phone that now has 32gb of storage my 15000 ipod has 16 gb my wife and daughter have iphone 4s with 8 gb hehehehehehehehe i got it as good as it gets i can listen to dayyyysssssss of music all 5s from me value is unparalleled capacity is only rivaled from a phone that costs hundreds more so far durability is phemominal if you upgrade your phone for hundreds when you can upgrade your phone for 2100 you might have too much money heres your sign</td>\n",
       "      <td>__label__50</td>\n",
       "    </tr>\n",
       "    <tr>\n",
       "      <th>5427</th>\n",
       "      <td>__label__10</td>\n",
       "      <td>great game my daughter and i enjoy playing this game i like playing this game</td>\n",
       "      <td>__label__50</td>\n",
       "    </tr>\n",
       "    <tr>\n",
       "      <th>6800</th>\n",
       "      <td>__label__10</td>\n",
       "      <td>definitely worth the buy you cant go wrong with a cddvd purchase i listen to this cd at least once or twice a week and ive had it since it was released its that good its like alkaline trio and dashboard confessional had a love child named bayside if you like acoustic and deep lyrics sung with raw emotion you have to get this cd then tell your friends about the cd maybe play it in your car or room with them because they will want this cd definitely worth the buy</td>\n",
       "      <td>__label__50</td>\n",
       "    </tr>\n",
       "    <tr>\n",
       "      <th>10618</th>\n",
       "      <td>__label__10</td>\n",
       "      <td>just get it got this computer last night and all ready have world of warcraftpureturokmercenaries 2assassins creedrunsgood but not the greatiestsporeflight sim xand gears of war on it and they all run greatit takes alittle longer then expected to start programs but its proble just cause its brand new its still really fastif u have the money expand to the full 8gigs of ram and if u want it for top end games might wana get a better graphic card the wireless work great rite out the bookmy old computer couldnt even run turok but this 1 runs it on high settings just fineassassins creed could run better but its proble just casue theres not anof graphic for itbut besides that its overall a great machine got it for only 530 with out tax and 2 year protection cant go wrong with quad core phenomits a must buy if u want a good computer without going over 800and it didnt come with a monitor cable at allkeyboard is nice if your a gamer proble want agaming keyboard the mouse is really light but works good</td>\n",
       "      <td>__label__50</td>\n",
       "    </tr>\n",
       "    <tr>\n",
       "      <th>12102</th>\n",
       "      <td>__label__10</td>\n",
       "      <td>unbeatable in its price range after 2 bad maytag neptunes in 10 years enough was enough after hours of research i decided on this washer and equivalent dryer boy howdy do they rock cleaner clothes almost dry when they come out quiet water and electricity efficient you can spend twice the money 1264 for both at best buy awesome i cant believe you can get twice the washerdryer my sister bought the 2400 lg wd doesnt do any better a job on anything loveem</td>\n",
       "      <td>__label__50</td>\n",
       "    </tr>\n",
       "    <tr>\n",
       "      <th>9923</th>\n",
       "      <td>__label__10</td>\n",
       "      <td>good computer for home use im very happy with my computer the grandkids can play their games without any problems i can work while watching tv instead of sitting at my desktop in the other room the battery life is about what was listed</td>\n",
       "      <td>__label__50</td>\n",
       "    </tr>\n",
       "  </tbody>\n",
       "</table>\n",
       "</div>"
      ],
      "text/plain": [
       "            review  \\\n",
       "6584   __label__10   \n",
       "17980  __label__10   \n",
       "7038   __label__10   \n",
       "18886  __label__10   \n",
       "12278  __label__10   \n",
       "5427   __label__10   \n",
       "6800   __label__10   \n",
       "10618  __label__10   \n",
       "12102  __label__10   \n",
       "9923   __label__10   \n",
       "\n",
       "                                                                                                                                                                                                                                                                                                                                                                                                                                                                                                                                                                                                                                                                                                                                                                                                                                                                                                                                                                                                                                              comment  \\\n",
       "6584                                                                                                                                                                                                                                                                                                                                                                                                                                                                                                                                                                                                                                                                                                                                                                                                                                     maximum signal everywhere in a 2 floor home installed by geek squad for free with special promotion great signal everywhere and newer computers run at n speed while older one runs at g with no signal drop   \n",
       "17980                                                                                                                                                                                                                                                                                                                                                                                                                                                                                                                                                                                                                                                                                                                                                                                                                               does the job a colleague recommended something like this when my maxtor external hard drive died this is the size of a smart phone has plenty of memory was easy to install and seems to be backing everything up   \n",
       "7038                                                                                                                                                                                                                                                                                                                                                                                                                                                                                                                                                                                                                                                                                                                                                                                                                                                                                                                                       great filter took me awhile to figure that it was circular and was pleasantly surprised what it really did   \n",
       "18886                                                                                                                                                                                                                                                                                                                                                                                                                                                                                                                                                                                                                                                                                                                                                                                                                                                                      love the apps and ease of use all my family has one once we got the first one it was hard to share with everyone because of the alldifferent directions are family goes in   \n",
       "12278                                                                                                                                                                                                                                                                                                                                                                                                                                                                                                                                                 32gb for 2100 i have an lg rumor phone that now has 32gb of storage my 15000 ipod has 16 gb my wife and daughter have iphone 4s with 8 gb hehehehehehehehe i got it as good as it gets i can listen to dayyyysssssss of music all 5s from me value is unparalleled capacity is only rivaled from a phone that costs hundreds more so far durability is phemominal if you upgrade your phone for hundreds when you can upgrade your phone for 2100 you might have too much money heres your sign   \n",
       "5427                                                                                                                                                                                                                                                                                                                                                                                                                                                                                                                                                                                                                                                                                                                                                                                                                                                                                                                                                                    great game my daughter and i enjoy playing this game i like playing this game   \n",
       "6800                                                                                                                                                                                                                                                                                                                                                                                                                                                                                                                                                                definitely worth the buy you cant go wrong with a cddvd purchase i listen to this cd at least once or twice a week and ive had it since it was released its that good its like alkaline trio and dashboard confessional had a love child named bayside if you like acoustic and deep lyrics sung with raw emotion you have to get this cd then tell your friends about the cd maybe play it in your car or room with them because they will want this cd definitely worth the buy   \n",
       "10618  just get it got this computer last night and all ready have world of warcraftpureturokmercenaries 2assassins creedrunsgood but not the greatiestsporeflight sim xand gears of war on it and they all run greatit takes alittle longer then expected to start programs but its proble just cause its brand new its still really fastif u have the money expand to the full 8gigs of ram and if u want it for top end games might wana get a better graphic card the wireless work great rite out the bookmy old computer couldnt even run turok but this 1 runs it on high settings just fineassassins creed could run better but its proble just casue theres not anof graphic for itbut besides that its overall a great machine got it for only 530 with out tax and 2 year protection cant go wrong with quad core phenomits a must buy if u want a good computer without going over 800and it didnt come with a monitor cable at allkeyboard is nice if your a gamer proble want agaming keyboard the mouse is really light but works good   \n",
       "12102                                                                                                                                                                                                                                                                                                                                                                                                                                                                                                                                                                         unbeatable in its price range after 2 bad maytag neptunes in 10 years enough was enough after hours of research i decided on this washer and equivalent dryer boy howdy do they rock cleaner clothes almost dry when they come out quiet water and electricity efficient you can spend twice the money 1264 for both at best buy awesome i cant believe you can get twice the washerdryer my sister bought the 2400 lg wd doesnt do any better a job on anything loveem   \n",
       "9923                                                                                                                                                                                                                                                                                                                                                                                                                                                                                                                                                                                                                                                                                                                                                                                                      good computer for home use im very happy with my computer the grandkids can play their games without any problems i can work while watching tv instead of sitting at my desktop in the other room the battery life is about what was listed   \n",
       "\n",
       "         predicted  \n",
       "6584   __label__50  \n",
       "17980  __label__50  \n",
       "7038   __label__50  \n",
       "18886  __label__50  \n",
       "12278  __label__50  \n",
       "5427   __label__50  \n",
       "6800   __label__50  \n",
       "10618  __label__50  \n",
       "12102  __label__50  \n",
       "9923   __label__50  "
      ]
     },
     "execution_count": 46,
     "metadata": {},
     "output_type": "execute_result"
    }
   ],
   "source": [
    "# https://www.bestbuy.com/site/reviews/the-endless-summer-ii-dvd-1994/5997406?variant=A\n",
    "# https://www.bestbuy.com/site/reviews/samsung-3-7-cu-ft-9-cycle-ultra-capacity-washer-white/9742451?page=4\n",
    "\n",
    "# our data shows a label of 1.0, but the review on the website is 5 stars\n",
    "(\n",
    "    validation.query('review == \"__label__10\"')\n",
    "    .query('predicted == \"__label__50\"')\n",
    "    .sample(10, random_state=333)\n",
    "    .drop('blob', axis=1)\n",
    ")"
   ]
  },
  {
   "cell_type": "code",
   "execution_count": null,
   "id": "453c7caa",
   "metadata": {},
   "outputs": [],
   "source": []
  }
 ],
 "metadata": {
  "kernelspec": {
   "display_name": "Python 3 (ipykernel)",
   "language": "python",
   "name": "python3"
  },
  "language_info": {
   "codemirror_mode": {
    "name": "ipython",
    "version": 3
   },
   "file_extension": ".py",
   "mimetype": "text/x-python",
   "name": "python",
   "nbconvert_exporter": "python",
   "pygments_lexer": "ipython3",
   "version": "3.9.7"
  }
 },
 "nbformat": 4,
 "nbformat_minor": 5
}
