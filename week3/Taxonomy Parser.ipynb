{
 "cells": [
  {
   "cell_type": "code",
   "execution_count": 2,
   "id": "4fff3626",
   "metadata": {},
   "outputs": [],
   "source": [
    "import pandas as pd\n",
    "from bs4 import BeautifulSoup"
   ]
  },
  {
   "cell_type": "code",
   "execution_count": 3,
   "id": "f2f6329d",
   "metadata": {},
   "outputs": [],
   "source": [
    "categoriesFilename = '/workspace/datasets/product_data/categories/categories_0001_abcat0010000_to_pcmcat99300050000.xml'\n"
   ]
  },
  {
   "cell_type": "code",
   "execution_count": 6,
   "id": "a102ec02",
   "metadata": {},
   "outputs": [
    {
     "name": "stdout",
     "output_type": "stream",
     "text": [
      "  17995 Best Buy > Computers & Tablets > Tablets & iPad\r\n",
      "    166 Best Buy > Computers & Tablets > Laptop & Netbook Computers\r\n",
      "     70 Best Buy > Computers & Tablets > E-Readers\r\n",
      "     61 Best Buy > Computers & Tablets > Mice & Keyboards\r\n",
      "     34 Best Buy > TV & Home Theater > TVs\r\n",
      "     33 Best Buy > Appliances > Small Appliances\r\n",
      "     24 Best Buy > Movies & Music > Movies & TV Shows\r\n",
      "     14 Best Buy > Computers & Tablets > Desktop & All-in-One Computers\r\n",
      "     13 Best Buy > Mobile Phones > All Mobile Phones with Plans\r\n",
      "     13 Best Buy > Computers & Tablets > Hard Drives\r\n"
     ]
    }
   ],
   "source": [
    "!grep touchpad /workspace/datasets/train.csv\\\n",
    "    | cut -d',' -f3 | \\\n",
    "    python leavesToPaths.py --max_depth 3 | sort | uniq -c | sort -nr | head"
   ]
  },
  {
   "cell_type": "code",
   "execution_count": 7,
   "id": "6cb2ef6e",
   "metadata": {},
   "outputs": [
    {
     "data": {
      "text/html": [
       "<div>\n",
       "<style scoped>\n",
       "    .dataframe tbody tr th:only-of-type {\n",
       "        vertical-align: middle;\n",
       "    }\n",
       "\n",
       "    .dataframe tbody tr th {\n",
       "        vertical-align: top;\n",
       "    }\n",
       "\n",
       "    .dataframe thead th {\n",
       "        text-align: right;\n",
       "    }\n",
       "</style>\n",
       "<table border=\"1\" class=\"dataframe\">\n",
       "  <thead>\n",
       "    <tr style=\"text-align: right;\">\n",
       "      <th></th>\n",
       "      <th>user</th>\n",
       "      <th>sku</th>\n",
       "      <th>category</th>\n",
       "      <th>query</th>\n",
       "      <th>click_time</th>\n",
       "      <th>query_time</th>\n",
       "    </tr>\n",
       "  </thead>\n",
       "  <tbody>\n",
       "    <tr>\n",
       "      <th>0</th>\n",
       "      <td>000000df17cd56a5df4a94074e133c9d4739fae3</td>\n",
       "      <td>2125233</td>\n",
       "      <td>abcat0101001</td>\n",
       "      <td>Televisiones Panasonic  50 pulgadas</td>\n",
       "      <td>2011-09-01 23:44:52.533</td>\n",
       "      <td>2011-09-01 23:43:59.752</td>\n",
       "    </tr>\n",
       "    <tr>\n",
       "      <th>1</th>\n",
       "      <td>000001928162247ffaf63185cd8b2a244c78e7c6</td>\n",
       "      <td>2009324</td>\n",
       "      <td>abcat0101001</td>\n",
       "      <td>Sharp</td>\n",
       "      <td>2011-09-05 12:25:37.42</td>\n",
       "      <td>2011-09-05 12:25:01.187</td>\n",
       "    </tr>\n",
       "    <tr>\n",
       "      <th>2</th>\n",
       "      <td>000017f79c2b5da56721f22f9fdd726b13daf8e8</td>\n",
       "      <td>1517163</td>\n",
       "      <td>pcmcat193100050014</td>\n",
       "      <td>nook</td>\n",
       "      <td>2011-08-24 12:56:58.91</td>\n",
       "      <td>2011-08-24 12:55:13.012</td>\n",
       "    </tr>\n",
       "    <tr>\n",
       "      <th>3</th>\n",
       "      <td>000017f79c2b5da56721f22f9fdd726b13daf8e8</td>\n",
       "      <td>2877125</td>\n",
       "      <td>abcat0101001</td>\n",
       "      <td>rca</td>\n",
       "      <td>2011-10-25 07:18:14.722</td>\n",
       "      <td>2011-10-25 07:16:51.759</td>\n",
       "    </tr>\n",
       "    <tr>\n",
       "      <th>4</th>\n",
       "      <td>000017f79c2b5da56721f22f9fdd726b13daf8e8</td>\n",
       "      <td>2877134</td>\n",
       "      <td>abcat0101005</td>\n",
       "      <td>rca</td>\n",
       "      <td>2011-10-25 07:19:51.697</td>\n",
       "      <td>2011-10-25 07:16:51.759</td>\n",
       "    </tr>\n",
       "  </tbody>\n",
       "</table>\n",
       "</div>"
      ],
      "text/plain": [
       "                                       user      sku            category  \\\n",
       "0  000000df17cd56a5df4a94074e133c9d4739fae3  2125233        abcat0101001   \n",
       "1  000001928162247ffaf63185cd8b2a244c78e7c6  2009324        abcat0101001   \n",
       "2  000017f79c2b5da56721f22f9fdd726b13daf8e8  1517163  pcmcat193100050014   \n",
       "3  000017f79c2b5da56721f22f9fdd726b13daf8e8  2877125        abcat0101001   \n",
       "4  000017f79c2b5da56721f22f9fdd726b13daf8e8  2877134        abcat0101005   \n",
       "\n",
       "                                 query               click_time  \\\n",
       "0  Televisiones Panasonic  50 pulgadas  2011-09-01 23:44:52.533   \n",
       "1                                Sharp   2011-09-05 12:25:37.42   \n",
       "2                                 nook   2011-08-24 12:56:58.91   \n",
       "3                                  rca  2011-10-25 07:18:14.722   \n",
       "4                                  rca  2011-10-25 07:19:51.697   \n",
       "\n",
       "                query_time  \n",
       "0  2011-09-01 23:43:59.752  \n",
       "1  2011-09-05 12:25:01.187  \n",
       "2  2011-08-24 12:55:13.012  \n",
       "3  2011-10-25 07:16:51.759  \n",
       "4  2011-10-25 07:16:51.759  "
      ]
     },
     "execution_count": 7,
     "metadata": {},
     "output_type": "execute_result"
    }
   ],
   "source": [
    "queries = pd.read_csv('/workspace/datasets/train.csv')\n",
    "queries.head()"
   ]
  },
  {
   "cell_type": "code",
   "execution_count": 14,
   "id": "7a0ba97a",
   "metadata": {},
   "outputs": [
    {
     "name": "stdout",
     "output_type": "stream",
     "text": [
      "Namespace(input='/workspace/datasets/product_data/categories/categories_0001_abcat0010000_to_pcmcat99300050000.xml', max_depth=6)\n",
      "Best Buy > TV & Home Theater > TVs > All Flat-Panel TVs\n",
      "Best Buy > TV & Home Theater > TVs > All Flat-Panel TVs\n",
      "Best Buy > Computers & Tablets > E-Readers > E-Reader Devices\n",
      "Best Buy > TV & Home Theater > TVs > All Flat-Panel TVs\n",
      "Best Buy > TV & Home Theater > TVs > TV/DVD Combos\n",
      "Best Buy > Magnolia Home Theater > Televisions\n",
      "Best Buy > Computers & Tablets > Laptop & Netbook Computers > MacBooks\n",
      "Best Buy > Mobile Phones > Mobile Phone Accessories > Headsets, Speakers & Transmitters\n",
      "Best Buy > TV & Home Theater > TVs > Tube TVs > TV Accessories > TV Antennas\n"
     ]
    }
   ],
   "source": [
    "!head /workspace/datasets/train.csv\\\n",
    "    | cut -d',' -f3 | \\\n",
    "    python leavesToPaths.py --max_depth 6"
   ]
  },
  {
   "cell_type": "code",
   "execution_count": null,
   "id": "75b8657d",
   "metadata": {},
   "outputs": [],
   "source": []
  }
 ],
 "metadata": {
  "kernelspec": {
   "display_name": "Python 3 (ipykernel)",
   "language": "python",
   "name": "python3"
  },
  "language_info": {
   "codemirror_mode": {
    "name": "ipython",
    "version": 3
   },
   "file_extension": ".py",
   "mimetype": "text/x-python",
   "name": "python",
   "nbconvert_exporter": "python",
   "pygments_lexer": "ipython3",
   "version": "3.9.7"
  }
 },
 "nbformat": 4,
 "nbformat_minor": 5
}
